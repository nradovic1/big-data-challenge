{
  "nbformat": 4,
  "nbformat_minor": 0,
  "metadata": {
    "colab": {
      "name": "level_two_starter_code.ipynb",
      "provenance": [],
      "collapsed_sections": []
    },
    "kernelspec": {
      "display_name": "Python 3",
      "language": "python",
      "name": "python3"
    },
    "language_info": {
      "codemirror_mode": {
        "name": "ipython",
        "version": 3
      },
      "file_extension": ".py",
      "mimetype": "text/x-python",
      "name": "python",
      "nbconvert_exporter": "python",
      "pygments_lexer": "ipython3",
      "version": "3.8.5"
    }
  },
  "cells": [
    {
      "cell_type": "code",
      "metadata": {
        "id": "-nwzxq5q4Ole",
        "colab": {
          "base_uri": "https://localhost:8080/"
        },
        "outputId": "d1942e05-3cb3-4f7b-caa4-985dcd0d93e3"
      },
      "source": [
        "import os\n",
        "# Find the latest version of spark 3.0  from http://www-us.apache.org/dist/spark/ and enter as the spark version\n",
        "# For example:\n",
        "# spark_version = 'spark-3.0.1'\n",
        "spark_version = 'spark-3.0.1'\n",
        "jdk_version = '11'\n",
        "hadoop_version = 'hadoop2.7'\n",
        "\n",
        "# Set Environment Variables\n",
        "os.environ['SPARK_VERSION'] = spark_version\n",
        "os.environ['JDK_VERSION'] = jdk_version\n",
        "os.environ['HADOOP_VERSION'] = hadoop_version\n",
        "os.environ['JAVA_HOME'] = f'/usr/lib/jvm/java-{jdk_version}-openjdk-amd64'\n",
        "os.environ['SPARK_HOME'] = f'/content/{spark_version}-bin-{hadoop_version}'\n",
        "\n",
        "# Update modules and install Spark and Java\n",
        "!apt-get update\n",
        "!apt-get install openjdk-$JDK_VERSION-jdk-headless -qq > /dev/null\n",
        "!wget -q https://archive.apache.org/dist/spark/$SPARK_VERSION/$SPARK_VERSION-bin-$HADOOP_VERSION.tgz\n",
        "!tar xf $SPARK_VERSION-bin-$HADOOP_VERSION.tgz\n",
        "!pip install -q findspark\n",
        "\n",
        "# Start a SparkSession\n",
        "import findspark\n",
        "findspark.init()"
      ],
      "execution_count": 1,
      "outputs": [
        {
          "output_type": "stream",
          "name": "stdout",
          "text": [
            "\r0% [Working]\r            \rGet:1 http://security.ubuntu.com/ubuntu bionic-security InRelease [88.7 kB]\n",
            "\r0% [Connecting to archive.ubuntu.com (91.189.88.152)] [1 InRelease 14.2 kB/88.7\r                                                                               \rHit:2 https://cloud.r-project.org/bin/linux/ubuntu bionic-cran40/ InRelease\n",
            "\r0% [Connecting to archive.ubuntu.com (91.189.88.152)] [1 InRelease 43.1 kB/88.7\r0% [2 InRelease gpgv 3,626 B] [Connecting to archive.ubuntu.com (91.189.88.152)\r                                                                               \rIgn:3 https://developer.download.nvidia.com/compute/cuda/repos/ubuntu1804/x86_64  InRelease\n",
            "\r0% [2 InRelease gpgv 3,626 B] [Waiting for headers] [1 InRelease 86.6 kB/88.7 k\r0% [2 InRelease gpgv 3,626 B] [Waiting for headers] [Waiting for headers] [Wait\r                                                                               \rHit:4 http://ppa.launchpad.net/c2d4u.team/c2d4u4.0+/ubuntu bionic InRelease\n",
            "\r0% [2 InRelease gpgv 3,626 B] [Waiting for headers] [Connecting to ppa.launchpa\r                                                                               \rIgn:5 https://developer.download.nvidia.com/compute/machine-learning/repos/ubuntu1804/x86_64  InRelease\n",
            "\r0% [2 InRelease gpgv 3,626 B] [Waiting for headers] [Connecting to ppa.launchpa\r                                                                               \rHit:6 https://developer.download.nvidia.com/compute/cuda/repos/ubuntu1804/x86_64  Release\n",
            "\r0% [2 InRelease gpgv 3,626 B] [Waiting for headers] [Connecting to ppa.launchpa\r                                                                               \rHit:7 https://developer.download.nvidia.com/compute/machine-learning/repos/ubuntu1804/x86_64  Release\n",
            "Hit:8 http://archive.ubuntu.com/ubuntu bionic InRelease\n",
            "Get:9 http://archive.ubuntu.com/ubuntu bionic-updates InRelease [88.7 kB]\n",
            "Hit:10 http://ppa.launchpad.net/cran/libgit2/ubuntu bionic InRelease\n",
            "Hit:11 http://ppa.launchpad.net/deadsnakes/ppa/ubuntu bionic InRelease\n",
            "Get:12 http://archive.ubuntu.com/ubuntu bionic-backports InRelease [74.6 kB]\n",
            "Hit:13 http://ppa.launchpad.net/graphics-drivers/ppa/ubuntu bionic InRelease\n",
            "Fetched 252 kB in 3s (90.1 kB/s)\n",
            "Reading package lists... Done\n"
          ]
        }
      ]
    },
    {
      "cell_type": "code",
      "metadata": {
        "id": "hr12wJ8J4Sy9"
      },
      "source": [
        "from pyspark.sql import SparkSession\n",
        "spark = SparkSession.builder.appName(\"Level-Two-Starter-Code\").getOrCreate()"
      ],
      "execution_count": 2,
      "outputs": []
    },
    {
      "cell_type": "markdown",
      "metadata": {
        "id": "1sDjdLAA4lHw"
      },
      "source": [
        "# Load Amazon Data into Spark DataFrame"
      ]
    },
    {
      "cell_type": "code",
      "metadata": {
        "id": "dCzwVUj74iFl",
        "colab": {
          "base_uri": "https://localhost:8080/"
        },
        "outputId": "44ad1885-7481-4249-fdb7-910bcb26dca0"
      },
      "source": [
        "from pyspark import SparkFiles\n",
        "raw_data_file = \"amazon_reviews_us_Video_Games_v1_00.tsv.gz\"\n",
        "url = \"https://s3.amazonaws.com/amazon-reviews-pds/tsv/\" + raw_data_file\n",
        "spark.sparkContext.addFile(url)\n",
        "# Read and show the data\n",
        "df = spark.read.option(\"sep\", \"\\t\").csv(\"file://\" + SparkFiles.get(\"amazon_reviews_us_Video_Games_v1_00.tsv.gz\"), header=True)\n",
        "df.show(10)"
      ],
      "execution_count": 3,
      "outputs": [
        {
          "output_type": "stream",
          "name": "stdout",
          "text": [
            "+-----------+-----------+--------------+----------+--------------+--------------------+----------------+-----------+-------------+-----------+----+-----------------+--------------------+--------------------+-----------+\n",
            "|marketplace|customer_id|     review_id|product_id|product_parent|       product_title|product_category|star_rating|helpful_votes|total_votes|vine|verified_purchase|     review_headline|         review_body|review_date|\n",
            "+-----------+-----------+--------------+----------+--------------+--------------------+----------------+-----------+-------------+-----------+----+-----------------+--------------------+--------------------+-----------+\n",
            "|         US|   12039526| RTIS3L2M1F5SM|B001CXYMFS|     737716809|Thrustmaster T-Fl...|     Video Games|          5|            0|          0|   N|                Y|an amazing joysti...|Used this for Eli...| 2015-08-31|\n",
            "|         US|    9636577| R1ZV7R40OLHKD|B00M920ND6|     569686175|Tonsee 6 buttons ...|     Video Games|          5|            0|          0|   N|                Y|Definitely a sile...|Loved it,  I didn...| 2015-08-31|\n",
            "|         US|    2331478|R3BH071QLH8QMC|B0029CSOD2|      98937668|Hidden Mysteries:...|     Video Games|          1|            0|          1|   N|                Y|            One Star|poor quality work...| 2015-08-31|\n",
            "|         US|   52495923|R127K9NTSXA2YH|B00GOOSV98|      23143350|GelTabz Performan...|     Video Games|          3|            0|          0|   N|                Y|good, but could b...|nice, but tend to...| 2015-08-31|\n",
            "|         US|   14533949|R32ZWUXDJPW27Q|B00Y074JOM|     821342511|Zero Suit Samus a...|     Video Games|          4|            0|          0|   N|                Y|   Great but flawed.|Great amiibo, gre...| 2015-08-31|\n",
            "|         US|    2377552|R3AQQ4YUKJWBA6|B002UBI6W6|     328764615|Psyclone Recharge...|     Video Games|          1|            0|          0|   N|                Y|            One Star|The remote consta...| 2015-08-31|\n",
            "|         US|   17521011|R2F0POU5K6F73F|B008XHCLFO|      24234603|Protection for yo...|     Video Games|          5|            0|          0|   N|                Y|              A Must|I have a 2012-201...| 2015-08-31|\n",
            "|         US|   19676307|R3VNR804HYSMR6|B00BRA9R6A|     682267517|   Nerf 3DS XL Armor|     Video Games|          5|            0|          0|   N|                Y|          Five Stars|Perfect, kids lov...| 2015-08-31|\n",
            "|         US|     224068| R3GZTM72WA2QH|B009EPWJLA|     435241890|One Piece: Pirate...|     Video Games|          5|            0|          0|   N|                Y|          Five Stars|            Excelent| 2015-08-31|\n",
            "|         US|   48467989| RNQOY62705W1K|B0000AV7GB|     256572651|Playstation 2 Dan...|     Video Games|          4|            0|          0|   N|                Y|          Four Stars|Slippery but expe...| 2015-08-31|\n",
            "+-----------+-----------+--------------+----------+--------------+--------------------+----------------+-----------+-------------+-----------+----+-----------------+--------------------+--------------------+-----------+\n",
            "only showing top 10 rows\n",
            "\n"
          ]
        }
      ]
    },
    {
      "cell_type": "markdown",
      "metadata": {
        "id": "wYvHpYMO4os_"
      },
      "source": [
        "# Filter by Votes"
      ]
    },
    {
      "cell_type": "code",
      "metadata": {
        "id": "L0E9xDOuJmbP"
      },
      "source": [
        "# Filter for greater than 20 total votes\n",
        "df = df.filter('total_votes>20')\n"
      ],
      "execution_count": 4,
      "outputs": []
    },
    {
      "cell_type": "code",
      "metadata": {
        "id": "6QEk2nbcJBbz"
      },
      "source": [
        "# Filter for greater than 50% helpful vote percentage\n",
        "df= df.filter( (df['helpful_votes']/df['total_votes'] > .5) )"
      ],
      "execution_count": 5,
      "outputs": []
    },
    {
      "cell_type": "markdown",
      "metadata": {
        "id": "AlnzTsVZ4tvT"
      },
      "source": [
        "# Describe Stats"
      ]
    },
    {
      "cell_type": "code",
      "metadata": {
        "id": "R4roMyzgJh29",
        "colab": {
          "base_uri": "https://localhost:8080/"
        },
        "outputId": "7e9790f7-d214-4bde-ceca-23a02217b048"
      },
      "source": [
        "# Paid reviews\n",
        "paid_df = df.filter(df['vine'] == 'Y')\n",
        "paid_df.describe().show()"
      ],
      "execution_count": 6,
      "outputs": [
        {
          "output_type": "stream",
          "name": "stdout",
          "text": [
            "+-------+-----------+--------------------+--------------+----------+-------------------+--------------------+----------------+------------------+-----------------+------------------+----+-----------------+--------------------+--------------------+-----------+\n",
            "|summary|marketplace|         customer_id|     review_id|product_id|     product_parent|       product_title|product_category|       star_rating|    helpful_votes|       total_votes|vine|verified_purchase|     review_headline|         review_body|review_date|\n",
            "+-------+-----------+--------------------+--------------+----------+-------------------+--------------------+----------------+------------------+-----------------+------------------+----+-----------------+--------------------+--------------------+-----------+\n",
            "|  count|         90|                  90|            90|        90|                 90|                  90|              90|                90|               90|                90|  90|               90|                  90|                  90|         90|\n",
            "|   mean|       null| 4.033115468888889E7|          null|      null|5.386650043666667E8|                null|            null| 4.166666666666667|56.27777777777778|63.644444444444446|null|             null|                null|                null|       null|\n",
            "| stddev|       null|1.2940535347288366E7|          null|      null|2.909152291166498E8|                null|            null|0.9858550158920685|66.20465847653779|  69.8570468260785|null|             null|                null|                null|       null|\n",
            "|    min|         US|            11393110|R10FO5UKKVZBK2|B000ME25P2|          115954784|Afterglow Univers...|     Video Games|                 1|              111|               102|   Y|                N|A FANTASTIC headset!|+ PROS:    + Infi...| 2008-01-14|\n",
            "|    max|         US|            53090059| RYBLWBAL5M1AY|B00YXO5X4M|          962335646|Your Shape Fitnes...|     Video Games|                 5|               97|                88|   Y|                N|a fun and educati...|[[VIDEOID:moL7MHK...| 2015-08-04|\n",
            "+-------+-----------+--------------------+--------------+----------+-------------------+--------------------+----------------+------------------+-----------------+------------------+----+-----------------+--------------------+--------------------+-----------+\n",
            "\n"
          ]
        }
      ]
    },
    {
      "cell_type": "code",
      "metadata": {
        "id": "o5qu-sPf7k-d",
        "colab": {
          "base_uri": "https://localhost:8080/"
        },
        "outputId": "4a61672e-4e77-46e2-ba00-3782affd8feb"
      },
      "source": [
        "# Unpaid reviews\n",
        "unpaid_df = df.filter(df['vine'] == 'N')\n",
        "unpaid_df.describe().show()"
      ],
      "execution_count": 7,
      "outputs": [
        {
          "output_type": "stream",
          "name": "stdout",
          "text": [
            "+-------+-----------+-------------------+--------------+--------------------+--------------------+--------------------+----------------+------------------+------------------+------------------+-----+-----------------+--------------------+--------------------+-----------+\n",
            "|summary|marketplace|        customer_id|     review_id|          product_id|      product_parent|       product_title|product_category|       star_rating|     helpful_votes|       total_votes| vine|verified_purchase|     review_headline|         review_body|review_date|\n",
            "+-------+-----------+-------------------+--------------+--------------------+--------------------+--------------------+----------------+------------------+------------------+------------------+-----+-----------------+--------------------+--------------------+-----------+\n",
            "|  count|      37385|              37385|         37385|               37385|               37385|               37385|           37385|             37385|             37385|             37385|37385|            37385|               37385|               37385|      37385|\n",
            "|   mean|       null|3.557701698748161E7|          null| 4.382678374421053E9| 4.925400115565334E8|              1942.0|            null|3.3699879630867997|50.030734251705226| 58.72266951986091| null|             null|                null|                null|       null|\n",
            "| stddev|       null|1.461360264006077E7|          null|3.9635673150663514E9|2.9363081346404666E8|                 NaN|            null|1.6354456245065188|121.92464486924375|132.14783078988978| null|             null|                null|                null|       null|\n",
            "|    min|         US|           10001113|R1005PFAPGMYQS|          006073132X|           100000996|\"Blood Splatter\" ...|     Video Games|                 1|               100|               100|    N|                N|     !!! WARNING !!!|! ATTENTION ! Be ...| 1999-07-20|\n",
            "|    max|         US|            9998943| RZZTUIX1574RC|          B013T7LT8M|           999965515|uDraw Gametablet ...|     Video Games|                 5|               999|               999|    N|                Y|�And In a Decade ...|😂😂😂😂😂I would...| 2015-08-31|\n",
            "+-------+-----------+-------------------+--------------+--------------------+--------------------+--------------------+----------------+------------------+------------------+------------------+-----+-----------------+--------------------+--------------------+-----------+\n",
            "\n"
          ]
        }
      ]
    },
    {
      "cell_type": "markdown",
      "metadata": {
        "id": "u17ssTQS4xHa"
      },
      "source": [
        "# Determine the percentage of five-star review among vine reviews"
      ]
    },
    {
      "cell_type": "code",
      "metadata": {
        "id": "HSSA2Z1-40QL",
        "colab": {
          "base_uri": "https://localhost:8080/"
        },
        "outputId": "aea5c80f-f235-4a5b-fb21-f4c1482eb397"
      },
      "source": [
        "# CODE HERE\n",
        "paid_number = paid_df.select(['review_id']).count()\n",
        "paid_five_star_number = paid_df.filter(paid_df['star_rating'] == 5).count()\n",
        "percentage_five_star_vine = paid_five_star_number/paid_df.select(['star_rating']).count()\n",
        "\n",
        "print(f'Number of paid reviews {paid_number}')\n",
        "print(f'Number of paid five star reviews {paid_five_star_number}')\n",
        "print(f'Percantage of paid reviews that are five stars {percentage_five_star_vine * 100}%')"
      ],
      "execution_count": 15,
      "outputs": [
        {
          "output_type": "stream",
          "name": "stdout",
          "text": [
            "Number of paid reviews 90\n",
            "Number of paid five star reviews 44\n",
            "Percantage of paid reviews that are five stars 48.888888888888886%\n"
          ]
        }
      ]
    },
    {
      "cell_type": "markdown",
      "metadata": {
        "id": "3L6C5S-K42bm"
      },
      "source": [
        "# Determine the percentage of five-star review among non-Vine reviews"
      ]
    },
    {
      "cell_type": "code",
      "metadata": {
        "id": "93A0BkCt49Vw",
        "colab": {
          "base_uri": "https://localhost:8080/"
        },
        "outputId": "e1b50d0a-6462-40dd-fd61-8da532a18544"
      },
      "source": [
        "unpaid_number = unpaid_df.select(['review_id']).count()\n",
        "unpaid_five_star_number = unpaid_df.filter(unpaid_df['star_rating'] == 5).count()\n",
        "percentage_five_star_non_vine = unpaid_five_star_number/unpaid_df.select(['star_rating']).count()\n",
        "\n",
        "\n",
        "print(f'Number of unpaid reviews {unpaid_number}')\n",
        "print(f'Number of unpaid five star reviews {unpaid_five_star_number}')\n",
        "print(f'Percantage of paid reviews that are five stars {percentage_five_star_non_vine * 100}%')"
      ],
      "execution_count": 16,
      "outputs": [
        {
          "output_type": "stream",
          "name": "stdout",
          "text": [
            "Number of unpaid reviews 37385\n",
            "Number of unpaid five star reviews 14626\n",
            "Percantage of paid reviews that are five stars 39.122642771164905%\n"
          ]
        }
      ]
    },
    {
      "cell_type": "code",
      "metadata": {
        "id": "EDVIerag8qbt"
      },
      "source": [
        ""
      ],
      "execution_count": null,
      "outputs": []
    },
    {
      "cell_type": "markdown",
      "metadata": {
        "id": "B_iT1eq_Gq2J"
      },
      "source": [
        "# Findings\n",
        "\n",
        "From the analysis, we can conclude that vine reviews are on average rated higher and with more 5 star reviews then non-vine reviews. There were also more votes per review and were found more helpful. "
      ]
    }
  ]
}